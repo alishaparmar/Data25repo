-- SELECT od.OrderID, od.ProductId, od.UnitPrice, od.Quantity, od.Discount 
-- FROM [Order Details] od
-- INNER JOIN Products p ON p.ProductID=od.ProductID
-- WHERE p.Discontinued = 1;



-- SELECT od.OrderID, od.ProductId, od.UnitPrice, od.Quantity, od.Discount 
-- FROM [Order Details] od
-- WHERE od.ProductID IN (SELECT p.ProductID
-- FROM Products p
-- WHERE p.Discontinued = 1)



-- SELECT p.Products 
-- FROM Products p
-- WHERE p.Discontinued = 1





-- SELECT o.OrderID, o.OrderDate, o.Freight, c.CompanyName, e.FirstName + ' ' + e.LastName AS 'Employee Name'
-- FROM Orders o
-- INNER JOIN Customers c ON o.CustomerID = c.CustomerID
-- INNER JOIN Employees e ON o.EmployeeID = e.EmployeeID;







-- SELECT p.SupplierID, AVG(UnitsOnOrder) As 'Avg Units on Order', s.CompanyName
-- FROM Products p
-- INNER JOIN Suppliers s
-- ON p.SupplierID = s.SupplierID
-- GROUP BY p.SupplierID, CompanyName;





-- SELECT *
-- FROM Customers
-- JOIN Orders
-- ON Customers.Country = Orders.ShipCountry
-- WHERE Country = 'Brazil';




-- SELECT CategoryID,
-- AVG(ReorderLevel) As 'Avg Reorders'
-- FROM Products
-- GROUP BY CategoryID
-- ORDER BY 'Avg Reorders' DESC;




-- SELECT FirstName + ' ' + LastName AS 'Full Name', 
-- DATEDIFF(yy,BirthDate,GETDATE()) AS 'Age',
-- CASE 
-- WHEN  DATEDIFF(yy,BirthDate,GETDATE())> 65 THEN 'Retired' 
-- WHEN DATEDIFF(yy,BirthDate,GETDATE()) > 60 THEN 'Retirement Due' 
-- ELSE 'More Than 5 Years Ro Go'
-- END AS 'Status'
-- FROM Employees;


